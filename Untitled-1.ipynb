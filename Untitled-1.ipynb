{
 "cells": [
  {
   "cell_type": "code",
   "execution_count": null,
   "metadata": {},
   "outputs": [],
   "source": [
    "import urllib.request as urlrq\n",
    "import certifi\n",
    "import ssl\n",
    "import re\n",
    "from bs4 import BeautifulSoup\n",
    "\n",
    "resp = urlrq.urlopen('https://www.wikidex.net/wiki/Lista_de_Pok%C3%A9mon', context=ssl.create_default_context(cafile=certifi.where()))\n",
    "html_bytes = resp.read()\n",
    "html = html_bytes.decode(\"utf-8\")\n",
    "soup = BeautifulSoup(html, \"html.parser\")\n",
    "tables=soup.find_all('table',{'class':['tabpokemon', 'sortable' ,'mergetable' ,'jquery-tablesorter']})\n",
    "i=0\n",
    "list_pokemon=[]\n",
    "for table in tables:\n",
    "    tbody=table.find('tbody')\n",
    "    trlist=tbody.find_all('tr')\n",
    "    for tr in trlist:\n",
    "        tdlist=tr.find_all('td')\n",
    "        for td in tdlist:\n",
    "            if(i==1):\n",
    "                list_pokemon.append(td.get_text().replace('\\n','').lower())\n",
    "            i+=1\n",
    "        i=0\n",
    "#print(list_pokemon)\n",
    "\n",
    "resp_final = urlrq.urlopen('https://serebii.net/pokedex-swsh/'+list_pokemon[0], context=ssl.create_default_context(cafile=certifi.where()))\n",
    "html_bytes_final = resp_final.read()\n",
    "html_final = html_bytes_final.decode(\"latin-1\")\n",
    "soup_final = BeautifulSoup(html_final, \"html.parser\")\n",
    "tableaux = soup_final.find_all('table',class_='dextable')\n",
    "i=0\n",
    "j=0\n",
    "k=0\n",
    "pokemon_stats=[]\n",
    "for table in tableaux:\n",
    "    if(i==18):\n",
    "        trlist=table.find_all('tr')\n",
    "        for tr in trlist:\n",
    "            if(j==2):\n",
    "                tdlist=tr.find_all('td')\n",
    "                for td in tdlist:\n",
    "                    if(k!=0):\n",
    "                        pokemon_stats.append(td.string)\n",
    "                    k+=1\n",
    "            j+=1\n",
    "    i+=1\n",
    "print(pokemon_stats)\n"
   ]
  }
 ],
 "metadata": {
  "language_info": {
   "name": "python"
  },
  "orig_nbformat": 4
 },
 "nbformat": 4,
 "nbformat_minor": 2
}
